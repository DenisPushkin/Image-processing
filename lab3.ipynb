{
 "cells": [
  {
   "cell_type": "code",
   "execution_count": 9,
   "metadata": {},
   "outputs": [],
   "source": [
    "from PIL import Image\n",
    "import numpy as np\n",
    "import random"
   ]
  },
  {
   "cell_type": "code",
   "execution_count": 36,
   "metadata": {},
   "outputs": [],
   "source": [
    "def two_dim_to_greyscale(image: np.ndarray):\n",
    "    \"\"\"\n",
    "    convert 2-dim np.array to 3-dim greyscale np.array\n",
    "    param image: 2-dim np.array\n",
    "    output greyscale: 3-dim np.array\n",
    "    \"\"\"\n",
    "    height, width = image.shape[0], image.shape[1]\n",
    "    greyscale = np.zeros(shape = [height, width, 3], dtype = np.uint8)\n",
    "    greyscale[:,:,0] = image\n",
    "    greyscale[:,:,1] = image\n",
    "    greyscale[:,:,2] = image\n",
    "    return greyscale"
   ]
  },
  {
   "cell_type": "code",
   "execution_count": 14,
   "metadata": {},
   "outputs": [],
   "source": [
    "def rgb_to_greyscale(image: np.ndarray):\n",
    "    \"\"\"\n",
    "    convert RGB image to greyscale\n",
    "    param image: RGB image as np.ndarray\n",
    "    output greyscale_image: image with 3 channels set to greyscale format\n",
    "    \"\"\"\n",
    "    height, width = image.shape[0], image.shape[1]\n",
    "    greyscale_image = np.zeros(shape = [height, width, 3], dtype = np.uint8)\n",
    "    greyscale_image[:,:,0] = 0.2989*image[:,:,0] + 0.5870*image[:,:,1] + 0.1140*image[:,:,2]\n",
    "    greyscale_image[:,:,1] = greyscale_image[:,:,0]\n",
    "    greyscale_image[:,:,2] = greyscale_image[:,:,0]\n",
    "    return greyscale_image"
   ]
  },
  {
   "cell_type": "code",
   "execution_count": 38,
   "metadata": {},
   "outputs": [],
   "source": [
    "def normalize_image(image: np.ndarray):\n",
    "    \"\"\"\n",
    "    linear normalization of image values to 0 - 255 range\n",
    "    param image: image as np.array\n",
    "    output image_normilized: normalized 'image'\n",
    "    \"\"\"\n",
    "    min_value = np.min(image)\n",
    "    max_value = np.max(image)\n",
    "    image_normilized = np.floor(255.0 * (image - min_value) / (max_value - min_value))\n",
    "    return image_normilized"
   ]
  },
  {
   "cell_type": "code",
   "execution_count": 39,
   "metadata": {},
   "outputs": [],
   "source": [
    "#edge detection\n",
    "def sobel(image: np.ndarray):\n",
    "    \"\"\"\n",
    "    applies sobel operator to color intensities\n",
    "    param image: greyscale image as 2-dimensional np.ndarray\n",
    "    output result: non-normilized 2-dimensional greyscale image after applying sobel operator to 'image'\n",
    "    \"\"\"\n",
    "    height, width = image.shape[0], image.shape[1]\n",
    "    horizontal_mask = np.array([[-1, -2, -1],\n",
    "                     [0, 0, 0],\n",
    "                     [1, 2, 1]])\n",
    "    vertical_mask = np.array([[-1, 0, 1],\n",
    "                     [-2, 0, 2],\n",
    "                     [-1, 0, 1]])\n",
    "    result = np.zeros(shape = [height, width], dtype = np.uint8)\n",
    "    for x in range(1,height-1):\n",
    "        for y in range(1,width-1):\n",
    "            g_x = np.sum(horizontal_mask * image[x-1:x+2, y-1:y+2])\n",
    "            g_y = np.sum(vertical_mask * image[x-1:x+2, y-1:y+2])\n",
    "            grad = np.sqrt(g_x**2+g_y**2)\n",
    "            result[x,y] = grad\n",
    "    result = normalize_image(result)\n",
    "    return result"
   ]
  },
  {
   "cell_type": "code",
   "execution_count": 42,
   "metadata": {},
   "outputs": [],
   "source": [
    "# adds salt and pepper noise to greyscaled image\n",
    "def salt_and_pepper(image: np.ndarray, prob: float):\n",
    "    \"\"\"\n",
    "    add random noise to image\n",
    "    param \n",
    "    image: image as np.ndarray\n",
    "    prob: half-probability of mutation\n",
    "    output\n",
    "    image: image with 'prob' portion of entries changed to 0 and 'prob' portion of entries changed to 255\n",
    "    \"\"\"\n",
    "    height, width = image.shape[0], image.shape[1]\n",
    "    threshold = 1 - prob\n",
    "    random_matrix = np.random.random_sample((height, width))\n",
    "    image[random_matrix < prob] = 0\n",
    "    image[random_matrix > threshold] = 255\n",
    "    return image"
   ]
  },
  {
   "cell_type": "code",
   "execution_count": 52,
   "metadata": {},
   "outputs": [],
   "source": [
    "def median_filter(image: np.ndarray, filter_size = 1, mode = 'line'):\n",
    "    height, width = image.shape[0], image.shape[1]\n",
    "    result = np.zeros(shape = [height, width], dtype = np.uint8)\n",
    "    for x in range(filter_size, height-filter_size):\n",
    "        for y in range(filter_size, width-filter_size):\n",
    "            if mode == 'square':\n",
    "                result[x,y] = np.median(image[x-filter_size:x+filter_size+1,y-filter_size:y+filter_size+1])\n",
    "            elif mode == 'line':\n",
    "                result[x,y] = np.median(np.concatenate( (image[x-filter_size:x+filter_size+1,y],\n",
    "                                                      image[x,y-filter_size:y],\n",
    "                                                      image[x,y+1:y+filter_size+1]) ))\n",
    "    return result"
   ]
  },
  {
   "cell_type": "code",
   "execution_count": 62,
   "metadata": {},
   "outputs": [],
   "source": [
    "#edge detection\n",
    "def first_order_approx(image: np.ndarray, normilize = True) -> np.ndarray:\n",
    "    \n",
    "    \"\"\"\n",
    "    edge detection by first order intensity approximation  f(i, j)= a*i + b*j + c\n",
    "\n",
    "    param image: color intensity\n",
    "\n",
    "    return: normilized gradient of first order approximation\n",
    "\n",
    "    \"\"\"\n",
    "    \n",
    "    height, width = image.shape[0], image.shape[1]\n",
    "    result = np.zeros(shape=(height, width), dtype=np.uint8)\n",
    "    a_mask = np.array([[-1, -1], [1, 1]])\n",
    "    b_mask = np.array([[-1, 1], [-1, 1]])\n",
    "    for i in range(1, height):\n",
    "        for j in range(1, width):\n",
    "            a = .5*np.sum(a_mask*image[i-1:i+1, j-1:j+1])\n",
    "            b = .5*np.sum(b_mask * image[i-1:i+1, j-1:j+1])\n",
    "            result[i,j] = np.sqrt(a**2+b**2)\n",
    "    if (normilize):\n",
    "        result = normalize_image(result)\n",
    "    return result"
   ]
  },
  {
   "cell_type": "code",
   "execution_count": 57,
   "metadata": {},
   "outputs": [],
   "source": [
    "def show_image_by_intensity(intensity: np.ndarray):\n",
    "    height, width = intensity.shape[0], intensity.shape[1]\n",
    "    image_arr = np.zeros(shape = [height, width, 3], dtype = np.uint8)\n",
    "    image_arr[:,:,0] = intensity\n",
    "    image_arr[:,:,1] = intensity\n",
    "    image_arr[:,:,2] = intensity\n",
    "    image = Image.fromarray(image_arr, 'RGB')\n",
    "    image.show()"
   ]
  },
  {
   "cell_type": "code",
   "execution_count": 63,
   "metadata": {},
   "outputs": [],
   "source": [
    "def main():\n",
    "    image = Image.open(r'C:\\Users\\111\\Desktop\\Image_processing\\photo.jpg')\n",
    "    #image.show()\n",
    "    image_arr = np.array(image)\n",
    "    height, width = image_arr.shape[0], image_arr.shape[1]\n",
    "    greyscale_image_arr = rgb_to_greyscale(image_arr)\n",
    "    \n",
    "    \n",
    "    greyscale_image = Image.fromarray(greyscale_image_arr, 'RGB')\n",
    "    greyscale_image.show()\n",
    "    \"\"\"\n",
    "    mutated_intensity = salt_and_pepper(greyscale_image_arr[:,:,0], 0.1)\n",
    "    show_image_by_intensity(mutated_intensity)\n",
    "    \n",
    "    \n",
    "    filtered_line_intensity = median_filter(mutated_intensity, filter_size = 2, mode = 'line')\n",
    "    show_image_by_intensity(filtered_line_intensity)\n",
    "    \n",
    "    filtered_square_intensity = median_filter(mutated_intensity, filter_size = 2, mode = 'square')\n",
    "    show_image_by_intensity(filtered_square_intensity)\n",
    "    \"\"\"\n",
    "    \n",
    "    intensities_for_edge_detection_non_normilized = first_order_approx(greyscale_image_arr[:,:,0], normilize = False)\n",
    "    show_image_by_intensity(intensities_for_edge_detection_non_normilized)\n",
    "    intensities_for_edge_detection = normalize_image(intensities_for_edge_detection_non_normilized)\n",
    "    show_image_by_intensity(intensities_for_edge_detection)\n",
    "    \"\"\"\n",
    "    sobel_image_layer = sobel(greyscale_image_arr[:,:,0])\n",
    "    sobel_image_arr = two_dim_to_greyscale(sobel_image_layer)\n",
    "    sobel_image = Image.fromarray(sobel_image_arr, 'RGB')\n",
    "    sobel_image.show()\n",
    "    \"\"\"\n",
    "main()"
   ]
  }
 ],
 "metadata": {
  "kernelspec": {
   "display_name": "Python 3",
   "language": "python",
   "name": "python3"
  },
  "language_info": {
   "codemirror_mode": {
    "name": "ipython",
    "version": 3
   },
   "file_extension": ".py",
   "mimetype": "text/x-python",
   "name": "python",
   "nbconvert_exporter": "python",
   "pygments_lexer": "ipython3",
   "version": "3.7.4"
  }
 },
 "nbformat": 4,
 "nbformat_minor": 2
}
